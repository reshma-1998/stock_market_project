{
 "cells": [
  {
   "cell_type": "markdown",
   "id": "516fbf23",
   "metadata": {},
   "source": [
    "# API Requests\n",
    "\n",
    "collect daily stock market data"
   ]
  },
  {
   "cell_type": "code",
   "execution_count": 2,
   "id": "c5353653",
   "metadata": {},
   "outputs": [],
   "source": [
    "# load the API key from secrets.toml\n",
    "import streamlit as st\n",
    "\n",
    "api_key = st.secrets[\"API_KEY\"]"
   ]
  },
  {
   "cell_type": "markdown",
   "id": "0cae4510",
   "metadata": {},
   "source": [
    "# search Endpoint\n",
    "get symbol for state bank"
   ]
  },
  {
   "cell_type": "code",
   "execution_count": 5,
   "id": "dd3bee01",
   "metadata": {},
   "outputs": [
    {
     "data": {
      "text/plain": [
       "{'bestMatches': [{'1. symbol': 'SBIN.BSE',\n",
       "   '2. name': 'State Bank of India',\n",
       "   '3. type': 'Equity',\n",
       "   '4. region': 'India/Bombay',\n",
       "   '5. marketOpen': '09:15',\n",
       "   '6. marketClose': '15:30',\n",
       "   '7. timezone': 'UTC+5.5',\n",
       "   '8. currency': 'INR',\n",
       "   '9. matchScore': '1.0000'},\n",
       "  {'1. symbol': 'SBKFF',\n",
       "   '2. name': 'State Bank of India',\n",
       "   '3. type': 'Equity',\n",
       "   '4. region': 'United States',\n",
       "   '5. marketOpen': '09:30',\n",
       "   '6. marketClose': '16:00',\n",
       "   '7. timezone': 'UTC-04',\n",
       "   '8. currency': 'USD',\n",
       "   '9. matchScore': '1.0000'},\n",
       "  {'1. symbol': 'SID.FRK',\n",
       "   '2. name': 'State Bank of India',\n",
       "   '3. type': 'Equity',\n",
       "   '4. region': 'Frankfurt',\n",
       "   '5. marketOpen': '08:00',\n",
       "   '6. marketClose': '20:00',\n",
       "   '7. timezone': 'UTC+02',\n",
       "   '8. currency': 'EUR',\n",
       "   '9. matchScore': '1.0000'},\n",
       "  {'1. symbol': 'SBID.LON',\n",
       "   '2. name': 'State Bank of India GDR',\n",
       "   '3. type': 'Equity',\n",
       "   '4. region': 'United Kingdom',\n",
       "   '5. marketOpen': '08:00',\n",
       "   '6. marketClose': '16:30',\n",
       "   '7. timezone': 'UTC+01',\n",
       "   '8. currency': 'USD',\n",
       "   '9. matchScore': '0.9048'}]}"
      ]
     },
     "execution_count": 5,
     "metadata": {},
     "output_type": "execute_result"
    }
   ],
   "source": [
    "import requests\n",
    "\n",
    "url = \"https://alpha-vantage.p.rapidapi.com/query\"\n",
    "\n",
    "querystring = {\n",
    "    \"datatype\": \"json\",\n",
    "    \"keywords\": \"State Bank of India\",\n",
    "    \"function\": \"SYMBOL_SEARCH\",\n",
    "}\n",
    "\n",
    "headers = {\"x-rapidapi-key\": api_key, \"x-rapidapi-host\": \"alpha-vantage.p.rapidapi.com\"}\n",
    "\n",
    "response = requests.get(url, headers=headers, params=querystring)\n",
    "\n",
    "data = response.json()\n",
    "data"
   ]
  },
  {
   "cell_type": "code",
   "execution_count": 6,
   "id": "d156f723",
   "metadata": {},
   "outputs": [
    {
     "data": {
      "text/plain": [
       "<function dict.keys()>"
      ]
     },
     "execution_count": 6,
     "metadata": {},
     "output_type": "execute_result"
    }
   ],
   "source": [
    "data.keys"
   ]
  },
  {
   "cell_type": "code",
   "execution_count": 7,
   "id": "dd3c5fc1",
   "metadata": {},
   "outputs": [],
   "source": [
    "symbols = data[\"bestMatches\"]"
   ]
  },
  {
   "cell_type": "code",
   "execution_count": 8,
   "id": "169d5c57",
   "metadata": {},
   "outputs": [
    {
     "data": {
      "text/html": [
       "<div>\n",
       "<style scoped>\n",
       "    .dataframe tbody tr th:only-of-type {\n",
       "        vertical-align: middle;\n",
       "    }\n",
       "\n",
       "    .dataframe tbody tr th {\n",
       "        vertical-align: top;\n",
       "    }\n",
       "\n",
       "    .dataframe thead th {\n",
       "        text-align: right;\n",
       "    }\n",
       "</style>\n",
       "<table border=\"1\" class=\"dataframe\">\n",
       "  <thead>\n",
       "    <tr style=\"text-align: right;\">\n",
       "      <th></th>\n",
       "      <th>1. symbol</th>\n",
       "      <th>2. name</th>\n",
       "      <th>3. type</th>\n",
       "      <th>4. region</th>\n",
       "      <th>5. marketOpen</th>\n",
       "      <th>6. marketClose</th>\n",
       "      <th>7. timezone</th>\n",
       "      <th>8. currency</th>\n",
       "      <th>9. matchScore</th>\n",
       "    </tr>\n",
       "  </thead>\n",
       "  <tbody>\n",
       "    <tr>\n",
       "      <th>0</th>\n",
       "      <td>SBIN.BSE</td>\n",
       "      <td>State Bank of India</td>\n",
       "      <td>Equity</td>\n",
       "      <td>India/Bombay</td>\n",
       "      <td>09:15</td>\n",
       "      <td>15:30</td>\n",
       "      <td>UTC+5.5</td>\n",
       "      <td>INR</td>\n",
       "      <td>1.0000</td>\n",
       "    </tr>\n",
       "    <tr>\n",
       "      <th>1</th>\n",
       "      <td>SBKFF</td>\n",
       "      <td>State Bank of India</td>\n",
       "      <td>Equity</td>\n",
       "      <td>United States</td>\n",
       "      <td>09:30</td>\n",
       "      <td>16:00</td>\n",
       "      <td>UTC-04</td>\n",
       "      <td>USD</td>\n",
       "      <td>1.0000</td>\n",
       "    </tr>\n",
       "    <tr>\n",
       "      <th>2</th>\n",
       "      <td>SID.FRK</td>\n",
       "      <td>State Bank of India</td>\n",
       "      <td>Equity</td>\n",
       "      <td>Frankfurt</td>\n",
       "      <td>08:00</td>\n",
       "      <td>20:00</td>\n",
       "      <td>UTC+02</td>\n",
       "      <td>EUR</td>\n",
       "      <td>1.0000</td>\n",
       "    </tr>\n",
       "    <tr>\n",
       "      <th>3</th>\n",
       "      <td>SBID.LON</td>\n",
       "      <td>State Bank of India GDR</td>\n",
       "      <td>Equity</td>\n",
       "      <td>United Kingdom</td>\n",
       "      <td>08:00</td>\n",
       "      <td>16:30</td>\n",
       "      <td>UTC+01</td>\n",
       "      <td>USD</td>\n",
       "      <td>0.9048</td>\n",
       "    </tr>\n",
       "  </tbody>\n",
       "</table>\n",
       "</div>"
      ],
      "text/plain": [
       "  1. symbol                  2. name 3. type       4. region 5. marketOpen  \\\n",
       "0  SBIN.BSE      State Bank of India  Equity    India/Bombay         09:15   \n",
       "1     SBKFF      State Bank of India  Equity   United States         09:30   \n",
       "2   SID.FRK      State Bank of India  Equity       Frankfurt         08:00   \n",
       "3  SBID.LON  State Bank of India GDR  Equity  United Kingdom         08:00   \n",
       "\n",
       "  6. marketClose 7. timezone 8. currency 9. matchScore  \n",
       "0          15:30     UTC+5.5         INR        1.0000  \n",
       "1          16:00      UTC-04         USD        1.0000  \n",
       "2          20:00      UTC+02         EUR        1.0000  \n",
       "3          16:30      UTC+01         USD        0.9048  "
      ]
     },
     "execution_count": 8,
     "metadata": {},
     "output_type": "execute_result"
    }
   ],
   "source": [
    "import pandas as pd\n",
    "\n",
    "df_symbols = pd.DataFrame(symbols)\n",
    "df_symbols"
   ]
  },
  {
   "cell_type": "markdown",
   "id": "f19a30f8",
   "metadata": {},
   "source": [
    "# I want to the data for SBIN.BSE"
   ]
  },
  {
   "cell_type": "markdown",
   "id": "3805a272",
   "metadata": {},
   "source": [
    "### Time Series Daily Endpoint"
   ]
  },
  {
   "cell_type": "code",
   "execution_count": 9,
   "id": "c2a846ae",
   "metadata": {},
   "outputs": [
    {
     "data": {
      "text/plain": [
       "{'Meta Data': {'1. Information': 'Daily Prices (open, high, low, close) and Volumes',\n",
       "  '2. Symbol': 'SBIN.BSE',\n",
       "  '3. Last Refreshed': '2025-08-18',\n",
       "  '4. Output Size': 'Compact',\n",
       "  '5. Time Zone': 'US/Eastern'},\n",
       " 'Time Series (Daily)': {'2025-08-18': {'1. open': '831.3500',\n",
       "   '2. high': '835.2000',\n",
       "   '3. low': '825.3000',\n",
       "   '4. close': '827.0000',\n",
       "   '5. volume': '435823'},\n",
       "  '2025-08-14': {'1. open': '821.8500',\n",
       "   '2. high': '828.0000',\n",
       "   '3. low': '819.2000',\n",
       "   '4. close': '826.7000',\n",
       "   '5. volume': '492882'},\n",
       "  '2025-08-13': {'1. open': '823.4500',\n",
       "   '2. high': '824.9000',\n",
       "   '3. low': '820.5500',\n",
       "   '4. close': '822.1500',\n",
       "   '5. volume': '847012'},\n",
       "  '2025-08-12': {'1. open': '824.3000',\n",
       "   '2. high': '825.6000',\n",
       "   '3. low': '820.0000',\n",
       "   '4. close': '820.5500',\n",
       "   '5. volume': '784250'},\n",
       "  '2025-08-11': {'1. open': '807.0000',\n",
       "   '2. high': '824.9500',\n",
       "   '3. low': '807.0000',\n",
       "   '4. close': '824.3000',\n",
       "   '5. volume': '1141997'},\n",
       "  '2025-08-08': {'1. open': '805.0000',\n",
       "   '2. high': '807.9500',\n",
       "   '3. low': '790.1000',\n",
       "   '4. close': '804.5500',\n",
       "   '5. volume': '621304'},\n",
       "  '2025-08-07': {'1. open': '801.1000',\n",
       "   '2. high': '806.5000',\n",
       "   '3. low': '793.3000',\n",
       "   '4. close': '805.2500',\n",
       "   '5. volume': '188248'},\n",
       "  '2025-08-06': {'1. open': '801.0000',\n",
       "   '2. high': '810.0000',\n",
       "   '3. low': '799.0000',\n",
       "   '4. close': '805.1500',\n",
       "   '5. volume': '376366'},\n",
       "  '2025-08-05': {'1. open': '795.6500',\n",
       "   '2. high': '803.6500',\n",
       "   '3. low': '795.6500',\n",
       "   '4. close': '800.7000',\n",
       "   '5. volume': '512346'},\n",
       "  '2025-08-04': {'1. open': '795.0000',\n",
       "   '2. high': '797.4500',\n",
       "   '3. low': '786.5500',\n",
       "   '4. close': '795.6500',\n",
       "   '5. volume': '193850'},\n",
       "  '2025-08-01': {'1. open': '796.5000',\n",
       "   '2. high': '800.7500',\n",
       "   '3. low': '791.9500',\n",
       "   '4. close': '793.9500',\n",
       "   '5. volume': '234321'},\n",
       "  '2025-07-31': {'1. open': '796.6500',\n",
       "   '2. high': '803.6000',\n",
       "   '3. low': '792.4500',\n",
       "   '4. close': '796.4500',\n",
       "   '5. volume': '378571'},\n",
       "  '2025-07-30': {'1. open': '799.8500',\n",
       "   '2. high': '803.4000',\n",
       "   '3. low': '796.2500',\n",
       "   '4. close': '801.8500',\n",
       "   '5. volume': '154363'},\n",
       "  '2025-07-29': {'1. open': '795.3500',\n",
       "   '2. high': '800.2000',\n",
       "   '3. low': '793.1000',\n",
       "   '4. close': '798.9000',\n",
       "   '5. volume': '330118'},\n",
       "  '2025-07-28': {'1. open': '808.9500',\n",
       "   '2. high': '809.2000',\n",
       "   '3. low': '796.0000',\n",
       "   '4. close': '797.1500',\n",
       "   '5. volume': '389824'},\n",
       "  '2025-07-25': {'1. open': '814.3500',\n",
       "   '2. high': '819.0000',\n",
       "   '3. low': '805.5500',\n",
       "   '4. close': '806.5000',\n",
       "   '5. volume': '383923'},\n",
       "  '2025-07-24': {'1. open': '819.7500',\n",
       "   '2. high': '821.9500',\n",
       "   '3. low': '810.6500',\n",
       "   '4. close': '815.8500',\n",
       "   '5. volume': '323698'},\n",
       "  '2025-07-23': {'1. open': '815.2000',\n",
       "   '2. high': '825.0000',\n",
       "   '3. low': '811.4000',\n",
       "   '4. close': '820.7500',\n",
       "   '5. volume': '739975'},\n",
       "  '2025-07-22': {'1. open': '829.0000',\n",
       "   '2. high': '829.0000',\n",
       "   '3. low': '814.0000',\n",
       "   '4. close': '815.0000',\n",
       "   '5. volume': '174364'},\n",
       "  '2025-07-21': {'1. open': '823.5000',\n",
       "   '2. high': '827.4000',\n",
       "   '3. low': '817.9500',\n",
       "   '4. close': '824.2000',\n",
       "   '5. volume': '258166'},\n",
       "  '2025-07-18': {'1. open': '832.4000',\n",
       "   '2. high': '832.4000',\n",
       "   '3. low': '820.0500',\n",
       "   '4. close': '823.3000',\n",
       "   '5. volume': '256301'},\n",
       "  '2025-07-17': {'1. open': '839.0000',\n",
       "   '2. high': '842.3000',\n",
       "   '3. low': '826.1500',\n",
       "   '4. close': '828.6000',\n",
       "   '5. volume': '624129'},\n",
       "  '2025-07-16': {'1. open': '816.5000',\n",
       "   '2. high': '834.0000',\n",
       "   '3. low': '815.1500',\n",
       "   '4. close': '831.5500',\n",
       "   '5. volume': '1238621'},\n",
       "  '2025-07-15': {'1. open': '810.2000',\n",
       "   '2. high': '821.0000',\n",
       "   '3. low': '810.2000',\n",
       "   '4. close': '816.7500',\n",
       "   '5. volume': '460084'},\n",
       "  '2025-07-14': {'1. open': '810.4000',\n",
       "   '2. high': '815.6000',\n",
       "   '3. low': '808.0000',\n",
       "   '4. close': '809.3000',\n",
       "   '5. volume': '435542'},\n",
       "  '2025-07-11': {'1. open': '808.0000',\n",
       "   '2. high': '812.6000',\n",
       "   '3. low': '804.5000',\n",
       "   '4. close': '808.5000',\n",
       "   '5. volume': '227573'},\n",
       "  '2025-07-10': {'1. open': '812.0000',\n",
       "   '2. high': '815.5000',\n",
       "   '3. low': '807.0500',\n",
       "   '4. close': '808.0000',\n",
       "   '5. volume': '174968'},\n",
       "  '2025-07-09': {'1. open': '810.0000',\n",
       "   '2. high': '812.2500',\n",
       "   '3. low': '809.1000',\n",
       "   '4. close': '810.8500',\n",
       "   '5. volume': '176144'},\n",
       "  '2025-07-08': {'1. open': '808.9500',\n",
       "   '2. high': '813.8500',\n",
       "   '3. low': '805.5000',\n",
       "   '4. close': '812.8000',\n",
       "   '5. volume': '573527'},\n",
       "  '2025-07-07': {'1. open': '812.8000',\n",
       "   '2. high': '812.8000',\n",
       "   '3. low': '805.2000',\n",
       "   '4. close': '806.9500',\n",
       "   '5. volume': '116638'},\n",
       "  '2025-07-04': {'1. open': '810.2500',\n",
       "   '2. high': '813.5000',\n",
       "   '3. low': '804.2000',\n",
       "   '4. close': '811.8500',\n",
       "   '5. volume': '359322'},\n",
       "  '2025-07-03': {'1. open': '813.0000',\n",
       "   '2. high': '815.0000',\n",
       "   '3. low': '806.0000',\n",
       "   '4. close': '807.1000',\n",
       "   '5. volume': '429112'},\n",
       "  '2025-07-02': {'1. open': '820.7000',\n",
       "   '2. high': '824.3500',\n",
       "   '3. low': '809.1000',\n",
       "   '4. close': '813.2000',\n",
       "   '5. volume': '193280'},\n",
       "  '2025-07-01': {'1. open': '820.3500',\n",
       "   '2. high': '824.9500',\n",
       "   '3. low': '813.2500',\n",
       "   '4. close': '820.2500',\n",
       "   '5. volume': '633178'},\n",
       "  '2025-06-30': {'1. open': '808.9500',\n",
       "   '2. high': '821.0000',\n",
       "   '3. low': '807.0500',\n",
       "   '4. close': '820.3500',\n",
       "   '5. volume': '478069'},\n",
       "  '2025-06-27': {'1. open': '806.0000',\n",
       "   '2. high': '809.5000',\n",
       "   '3. low': '802.4000',\n",
       "   '4. close': '805.4000',\n",
       "   '5. volume': '477274'},\n",
       "  '2025-06-26': {'1. open': '802.7000',\n",
       "   '2. high': '803.4500',\n",
       "   '3. low': '791.5000',\n",
       "   '4. close': '797.0000',\n",
       "   '5. volume': '478368'},\n",
       "  '2025-06-25': {'1. open': '799.0000',\n",
       "   '2. high': '805.0000',\n",
       "   '3. low': '796.1000',\n",
       "   '4. close': '800.1000',\n",
       "   '5. volume': '197275'},\n",
       "  '2025-06-24': {'1. open': '798.5000',\n",
       "   '2. high': '806.5000',\n",
       "   '3. low': '793.6000',\n",
       "   '4. close': '795.2500',\n",
       "   '5. volume': '937612'},\n",
       "  '2025-06-23': {'1. open': '790.2000',\n",
       "   '2. high': '794.6000',\n",
       "   '3. low': '788.4500',\n",
       "   '4. close': '790.1500',\n",
       "   '5. volume': '212782'},\n",
       "  '2025-06-20': {'1. open': '787.9500',\n",
       "   '2. high': '799.1000',\n",
       "   '3. low': '786.3000',\n",
       "   '4. close': '796.0000',\n",
       "   '5. volume': '224991'},\n",
       "  '2025-06-19': {'1. open': '792.8500',\n",
       "   '2. high': '793.2000',\n",
       "   '3. low': '781.5000',\n",
       "   '4. close': '784.7000',\n",
       "   '5. volume': '235832'},\n",
       "  '2025-06-18': {'1. open': '792.1000',\n",
       "   '2. high': '795.5000',\n",
       "   '3. low': '788.3500',\n",
       "   '4. close': '791.7500',\n",
       "   '5. volume': '131579'},\n",
       "  '2025-06-17': {'1. open': '793.5000',\n",
       "   '2. high': '798.8000',\n",
       "   '3. low': '790.7500',\n",
       "   '4. close': '792.2000',\n",
       "   '5. volume': '1103108'},\n",
       "  '2025-06-16': {'1. open': '792.5500',\n",
       "   '2. high': '795.3500',\n",
       "   '3. low': '786.3500',\n",
       "   '4. close': '792.8500',\n",
       "   '5. volume': '1385709'},\n",
       "  '2025-06-13': {'1. open': '789.7500',\n",
       "   '2. high': '796.2000',\n",
       "   '3. low': '788.9000',\n",
       "   '4. close': '792.4000',\n",
       "   '5. volume': '362528'},\n",
       "  '2025-06-12': {'1. open': '816.0000',\n",
       "   '2. high': '816.5500',\n",
       "   '3. low': '801.2500',\n",
       "   '4. close': '805.6500',\n",
       "   '5. volume': '182058'},\n",
       "  '2025-06-11': {'1. open': '817.0500',\n",
       "   '2. high': '820.6000',\n",
       "   '3. low': '812.9000',\n",
       "   '4. close': '814.9500',\n",
       "   '5. volume': '183277'},\n",
       "  '2025-06-10': {'1. open': '821.9500',\n",
       "   '2. high': '821.9500',\n",
       "   '3. low': '814.6500',\n",
       "   '4. close': '817.0500',\n",
       "   '5. volume': '406292'},\n",
       "  '2025-06-09': {'1. open': '817.1000',\n",
       "   '2. high': '824.4000',\n",
       "   '3. low': '815.6000',\n",
       "   '4. close': '820.0500',\n",
       "   '5. volume': '432300'},\n",
       "  '2025-06-06': {'1. open': '806.1000',\n",
       "   '2. high': '816.4500',\n",
       "   '3. low': '802.9000',\n",
       "   '4. close': '812.8500',\n",
       "   '5. volume': '943903'},\n",
       "  '2025-06-05': {'1. open': '809.0000',\n",
       "   '2. high': '811.9000',\n",
       "   '3. low': '803.0000',\n",
       "   '4. close': '806.1000',\n",
       "   '5. volume': '319568'},\n",
       "  '2025-06-04': {'1. open': '815.1000',\n",
       "   '2. high': '815.9500',\n",
       "   '3. low': '805.0000',\n",
       "   '4. close': '806.4500',\n",
       "   '5. volume': '147931'},\n",
       "  '2025-06-03': {'1. open': '816.9000',\n",
       "   '2. high': '817.9500',\n",
       "   '3. low': '805.2000',\n",
       "   '4. close': '809.7500',\n",
       "   '5. volume': '1443812'},\n",
       "  '2025-06-02': {'1. open': '812.1000',\n",
       "   '2. high': '822.5000',\n",
       "   '3. low': '809.1000',\n",
       "   '4. close': '813.4500',\n",
       "   '5. volume': '1094058'},\n",
       "  '2025-05-30': {'1. open': '797.3500',\n",
       "   '2. high': '814.3500',\n",
       "   '3. low': '792.7500',\n",
       "   '4. close': '812.4000',\n",
       "   '5. volume': '510858'},\n",
       "  '2025-05-29': {'1. open': '797.1000',\n",
       "   '2. high': '800.0000',\n",
       "   '3. low': '791.4000',\n",
       "   '4. close': '797.3000',\n",
       "   '5. volume': '250346'},\n",
       "  '2025-05-28': {'1. open': '794.0000',\n",
       "   '2. high': '798.8500',\n",
       "   '3. low': '792.9000',\n",
       "   '4. close': '796.4500',\n",
       "   '5. volume': '282344'},\n",
       "  '2025-05-27': {'1. open': '794.1500',\n",
       "   '2. high': '801.1500',\n",
       "   '3. low': '789.7500',\n",
       "   '4. close': '793.8000',\n",
       "   '5. volume': '1122936'},\n",
       "  '2025-05-26': {'1. open': '791.4500',\n",
       "   '2. high': '797.5500',\n",
       "   '3. low': '789.3000',\n",
       "   '4. close': '794.3500',\n",
       "   '5. volume': '247585'},\n",
       "  '2025-05-23': {'1. open': '787.2000',\n",
       "   '2. high': '794.8000',\n",
       "   '3. low': '786.4000',\n",
       "   '4. close': '790.4500',\n",
       "   '5. volume': '456862'},\n",
       "  '2025-05-22': {'1. open': '788.9000',\n",
       "   '2. high': '788.9000',\n",
       "   '3. low': '780.6000',\n",
       "   '4. close': '785.3500',\n",
       "   '5. volume': '390333'},\n",
       "  '2025-05-21': {'1. open': '786.5000',\n",
       "   '2. high': '790.7000',\n",
       "   '3. low': '779.4000',\n",
       "   '4. close': '787.2000',\n",
       "   '5. volume': '260511'},\n",
       "  '2025-05-20': {'1. open': '798.2500',\n",
       "   '2. high': '799.6500',\n",
       "   '3. low': '784.0000',\n",
       "   '4. close': '785.3500',\n",
       "   '5. volume': '441739'},\n",
       "  '2025-05-19': {'1. open': '792.9500',\n",
       "   '2. high': '801.3500',\n",
       "   '3. low': '791.8500',\n",
       "   '4. close': '794.9000',\n",
       "   '5. volume': '508945'},\n",
       "  '2025-05-16': {'1. open': '804.8000',\n",
       "   '2. high': '804.8000',\n",
       "   '3. low': '790.6000',\n",
       "   '4. close': '791.8500',\n",
       "   '5. volume': '645169'},\n",
       "  '2025-05-15': {'1. open': '804.8500',\n",
       "   '2. high': '809.5000',\n",
       "   '3. low': '794.5500',\n",
       "   '4. close': '807.7000',\n",
       "   '5. volume': '904539'},\n",
       "  '2025-05-14': {'1. open': '805.2500',\n",
       "   '2. high': '807.4500',\n",
       "   '3. low': '796.5000',\n",
       "   '4. close': '800.3500',\n",
       "   '5. volume': '1139114'},\n",
       "  '2025-05-13': {'1. open': '800.4500',\n",
       "   '2. high': '807.7000',\n",
       "   '3. low': '797.2500',\n",
       "   '4. close': '801.9000',\n",
       "   '5. volume': '717454'},\n",
       "  '2025-05-12': {'1. open': '799.8500',\n",
       "   '2. high': '803.9000',\n",
       "   '3. low': '793.1000',\n",
       "   '4. close': '801.6000',\n",
       "   '5. volume': '829415'},\n",
       "  '2025-05-09': {'1. open': '755.2500',\n",
       "   '2. high': '781.4000',\n",
       "   '3. low': '755.2500',\n",
       "   '4. close': '779.4000',\n",
       "   '5. volume': '375997'},\n",
       "  '2025-05-08': {'1. open': '778.0000',\n",
       "   '2. high': '786.5000',\n",
       "   '3. low': '765.0000',\n",
       "   '4. close': '768.7500',\n",
       "   '5. volume': '463248'},\n",
       "  '2025-05-07': {'1. open': '762.2500',\n",
       "   '2. high': '782.5500',\n",
       "   '3. low': '762.2500',\n",
       "   '4. close': '776.1500',\n",
       "   '5. volume': '581175'},\n",
       "  '2025-05-06': {'1. open': '792.2000',\n",
       "   '2. high': '799.0000',\n",
       "   '3. low': '771.1500',\n",
       "   '4. close': '774.1500',\n",
       "   '5. volume': '761282'},\n",
       "  '2025-05-05': {'1. open': '784.9500',\n",
       "   '2. high': '799.1000',\n",
       "   '3. low': '783.6500',\n",
       "   '4. close': '790.0000',\n",
       "   '5. volume': '771587'},\n",
       "  '2025-05-02': {'1. open': '792.0500',\n",
       "   '2. high': '802.9500',\n",
       "   '3. low': '789.2500',\n",
       "   '4. close': '800.0500',\n",
       "   '5. volume': '335006'},\n",
       "  '2025-04-30': {'1. open': '812.8500',\n",
       "   '2. high': '812.8500',\n",
       "   '3. low': '784.4500',\n",
       "   '4. close': '788.1500',\n",
       "   '5. volume': '412886'},\n",
       "  '2025-04-29': {'1. open': '820.0000',\n",
       "   '2. high': '829.0000',\n",
       "   '3. low': '808.7500',\n",
       "   '4. close': '811.7500',\n",
       "   '5. volume': '699284'},\n",
       "  '2025-04-28': {'1. open': '796.3000',\n",
       "   '2. high': '822.5000',\n",
       "   '3. low': '796.3000',\n",
       "   '4. close': '817.6000',\n",
       "   '5. volume': '1068737'},\n",
       "  '2025-04-25': {'1. open': '813.6000',\n",
       "   '2. high': '819.1000',\n",
       "   '3. low': '787.1000',\n",
       "   '4. close': '798.7500',\n",
       "   '5. volume': '383883'},\n",
       "  '2025-04-24': {'1. open': '813.3000',\n",
       "   '2. high': '819.1500',\n",
       "   '3. low': '811.0000',\n",
       "   '4. close': '813.2000',\n",
       "   '5. volume': '506029'},\n",
       "  '2025-04-23': {'1. open': '825.8500',\n",
       "   '2. high': '830.0000',\n",
       "   '3. low': '809.9500',\n",
       "   '4. close': '813.3000',\n",
       "   '5. volume': '1020589'},\n",
       "  '2025-04-22': {'1. open': '821.2000',\n",
       "   '2. high': '835.4000',\n",
       "   '3. low': '813.8000',\n",
       "   '4. close': '822.4500',\n",
       "   '5. volume': '663396'},\n",
       "  '2025-04-21': {'1. open': '803.0000',\n",
       "   '2. high': '824.2500',\n",
       "   '3. low': '801.6000',\n",
       "   '4. close': '816.6000',\n",
       "   '5. volume': '697505'},\n",
       "  '2025-04-17': {'1. open': '771.1000',\n",
       "   '2. high': '801.0000',\n",
       "   '3. low': '767.2500',\n",
       "   '4. close': '797.1000',\n",
       "   '5. volume': '738676'},\n",
       "  '2025-04-16': {'1. open': '764.0000',\n",
       "   '2. high': '774.5500',\n",
       "   '3. low': '760.4000',\n",
       "   '4. close': '771.7500',\n",
       "   '5. volume': '477621'},\n",
       "  '2025-04-15': {'1. open': '768.0500',\n",
       "   '2. high': '770.6000',\n",
       "   '3. low': '757.6500',\n",
       "   '4. close': '763.3000',\n",
       "   '5. volume': '763643'},\n",
       "  '2025-04-11': {'1. open': '759.9500',\n",
       "   '2. high': '759.9500',\n",
       "   '3. low': '746.1500',\n",
       "   '4. close': '754.0500',\n",
       "   '5. volume': '593599'},\n",
       "  '2025-04-09': {'1. open': '768.8000',\n",
       "   '2. high': '769.0000',\n",
       "   '3. low': '740.7500',\n",
       "   '4. close': '742.0500',\n",
       "   '5. volume': '467660'},\n",
       "  '2025-04-08': {'1. open': '757.0000',\n",
       "   '2. high': '774.1000',\n",
       "   '3. low': '757.0000',\n",
       "   '4. close': '768.4000',\n",
       "   '5. volume': '490787'},\n",
       "  '2025-04-07': {'1. open': '732.3000',\n",
       "   '2. high': '752.9500',\n",
       "   '3. low': '730.9500',\n",
       "   '4. close': '746.7500',\n",
       "   '5. volume': '775236'},\n",
       "  '2025-04-04': {'1. open': '779.2000',\n",
       "   '2. high': '782.2500',\n",
       "   '3. low': '765.0000',\n",
       "   '4. close': '767.8000',\n",
       "   '5. volume': '392420'},\n",
       "  '2025-04-03': {'1. open': '770.0000',\n",
       "   '2. high': '784.8500',\n",
       "   '3. low': '770.0000',\n",
       "   '4. close': '779.2000',\n",
       "   '5. volume': '284146'},\n",
       "  '2025-04-02': {'1. open': '772.0000',\n",
       "   '2. high': '776.8000',\n",
       "   '3. low': '764.3000',\n",
       "   '4. close': '775.8500',\n",
       "   '5. volume': '134131'},\n",
       "  '2025-04-01': {'1. open': '767.9500',\n",
       "   '2. high': '782.5000',\n",
       "   '3. low': '763.0500',\n",
       "   '4. close': '771.5000',\n",
       "   '5. volume': '458492'},\n",
       "  '2025-03-28': {'1. open': '770.7000',\n",
       "   '2. high': '778.4500',\n",
       "   '3. low': '768.0000',\n",
       "   '4. close': '771.6000',\n",
       "   '5. volume': '514260'},\n",
       "  '2025-03-27': {'1. open': '762.7000',\n",
       "   '2. high': '775.0000',\n",
       "   '3. low': '760.7500',\n",
       "   '4. close': '772.4000',\n",
       "   '5. volume': '243074'},\n",
       "  '2025-03-26': {'1. open': '770.3000',\n",
       "   '2. high': '775.9500',\n",
       "   '3. low': '761.8000',\n",
       "   '4. close': '763.3500',\n",
       "   '5. volume': '346155'},\n",
       "  '2025-03-25': {'1. open': '784.4000',\n",
       "   '2. high': '786.0000',\n",
       "   '3. low': '769.6500',\n",
       "   '4. close': '773.0500',\n",
       "   '5. volume': '841085'},\n",
       "  '2025-03-24': {'1. open': '758.5000',\n",
       "   '2. high': '783.1500',\n",
       "   '3. low': '755.0500',\n",
       "   '4. close': '781.4000',\n",
       "   '5. volume': '459986'}}}"
      ]
     },
     "execution_count": 9,
     "metadata": {},
     "output_type": "execute_result"
    }
   ],
   "source": [
    "import requests\n",
    "\n",
    "import requests\n",
    "\n",
    "url = \"https://alpha-vantage.p.rapidapi.com/query\"\n",
    "\n",
    "querystring = {\n",
    "    \"function\": \"TIME_SERIES_DAILY\",\n",
    "    \"symbol\": \"SBIN.BSE\",\n",
    "    \"outputsize\": \"compact\",\n",
    "    \"datatype\": \"json\",\n",
    "}\n",
    "\n",
    "headers = {\"x-rapidapi-key\": api_key, \"x-rapidapi-host\": \"alpha-vantage.p.rapidapi.com\"}\n",
    "\n",
    "response = requests.get(url, headers=headers, params=querystring)\n",
    "\n",
    "daily = response.json()\n",
    "daily"
   ]
  },
  {
   "cell_type": "code",
   "execution_count": 11,
   "id": "fde3e0a6",
   "metadata": {},
   "outputs": [
    {
     "data": {
      "text/plain": [
       "dict_keys(['Meta Data', 'Time Series (Daily)'])"
      ]
     },
     "execution_count": 11,
     "metadata": {},
     "output_type": "execute_result"
    }
   ],
   "source": [
    "daily.keys()"
   ]
  },
  {
   "cell_type": "code",
   "execution_count": 17,
   "id": "a6c6c16e",
   "metadata": {},
   "outputs": [
    {
     "data": {
      "text/html": [
       "<div>\n",
       "<style scoped>\n",
       "    .dataframe tbody tr th:only-of-type {\n",
       "        vertical-align: middle;\n",
       "    }\n",
       "\n",
       "    .dataframe tbody tr th {\n",
       "        vertical-align: top;\n",
       "    }\n",
       "\n",
       "    .dataframe thead th {\n",
       "        text-align: right;\n",
       "    }\n",
       "</style>\n",
       "<table border=\"1\" class=\"dataframe\">\n",
       "  <thead>\n",
       "    <tr style=\"text-align: right;\">\n",
       "      <th></th>\n",
       "      <th>1. open</th>\n",
       "      <th>2. high</th>\n",
       "      <th>3. low</th>\n",
       "      <th>4. close</th>\n",
       "      <th>5. volume</th>\n",
       "    </tr>\n",
       "  </thead>\n",
       "  <tbody>\n",
       "    <tr>\n",
       "      <th>2025-08-18</th>\n",
       "      <td>831.3500</td>\n",
       "      <td>835.2000</td>\n",
       "      <td>825.3000</td>\n",
       "      <td>827.0000</td>\n",
       "      <td>435823</td>\n",
       "    </tr>\n",
       "    <tr>\n",
       "      <th>2025-08-14</th>\n",
       "      <td>821.8500</td>\n",
       "      <td>828.0000</td>\n",
       "      <td>819.2000</td>\n",
       "      <td>826.7000</td>\n",
       "      <td>492882</td>\n",
       "    </tr>\n",
       "    <tr>\n",
       "      <th>2025-08-13</th>\n",
       "      <td>823.4500</td>\n",
       "      <td>824.9000</td>\n",
       "      <td>820.5500</td>\n",
       "      <td>822.1500</td>\n",
       "      <td>847012</td>\n",
       "    </tr>\n",
       "    <tr>\n",
       "      <th>2025-08-12</th>\n",
       "      <td>824.3000</td>\n",
       "      <td>825.6000</td>\n",
       "      <td>820.0000</td>\n",
       "      <td>820.5500</td>\n",
       "      <td>784250</td>\n",
       "    </tr>\n",
       "    <tr>\n",
       "      <th>2025-08-11</th>\n",
       "      <td>807.0000</td>\n",
       "      <td>824.9500</td>\n",
       "      <td>807.0000</td>\n",
       "      <td>824.3000</td>\n",
       "      <td>1141997</td>\n",
       "    </tr>\n",
       "    <tr>\n",
       "      <th>...</th>\n",
       "      <td>...</td>\n",
       "      <td>...</td>\n",
       "      <td>...</td>\n",
       "      <td>...</td>\n",
       "      <td>...</td>\n",
       "    </tr>\n",
       "    <tr>\n",
       "      <th>2025-03-28</th>\n",
       "      <td>770.7000</td>\n",
       "      <td>778.4500</td>\n",
       "      <td>768.0000</td>\n",
       "      <td>771.6000</td>\n",
       "      <td>514260</td>\n",
       "    </tr>\n",
       "    <tr>\n",
       "      <th>2025-03-27</th>\n",
       "      <td>762.7000</td>\n",
       "      <td>775.0000</td>\n",
       "      <td>760.7500</td>\n",
       "      <td>772.4000</td>\n",
       "      <td>243074</td>\n",
       "    </tr>\n",
       "    <tr>\n",
       "      <th>2025-03-26</th>\n",
       "      <td>770.3000</td>\n",
       "      <td>775.9500</td>\n",
       "      <td>761.8000</td>\n",
       "      <td>763.3500</td>\n",
       "      <td>346155</td>\n",
       "    </tr>\n",
       "    <tr>\n",
       "      <th>2025-03-25</th>\n",
       "      <td>784.4000</td>\n",
       "      <td>786.0000</td>\n",
       "      <td>769.6500</td>\n",
       "      <td>773.0500</td>\n",
       "      <td>841085</td>\n",
       "    </tr>\n",
       "    <tr>\n",
       "      <th>2025-03-24</th>\n",
       "      <td>758.5000</td>\n",
       "      <td>783.1500</td>\n",
       "      <td>755.0500</td>\n",
       "      <td>781.4000</td>\n",
       "      <td>459986</td>\n",
       "    </tr>\n",
       "  </tbody>\n",
       "</table>\n",
       "<p>100 rows × 5 columns</p>\n",
       "</div>"
      ],
      "text/plain": [
       "             1. open   2. high    3. low  4. close 5. volume\n",
       "2025-08-18  831.3500  835.2000  825.3000  827.0000    435823\n",
       "2025-08-14  821.8500  828.0000  819.2000  826.7000    492882\n",
       "2025-08-13  823.4500  824.9000  820.5500  822.1500    847012\n",
       "2025-08-12  824.3000  825.6000  820.0000  820.5500    784250\n",
       "2025-08-11  807.0000  824.9500  807.0000  824.3000   1141997\n",
       "...              ...       ...       ...       ...       ...\n",
       "2025-03-28  770.7000  778.4500  768.0000  771.6000    514260\n",
       "2025-03-27  762.7000  775.0000  760.7500  772.4000    243074\n",
       "2025-03-26  770.3000  775.9500  761.8000  763.3500    346155\n",
       "2025-03-25  784.4000  786.0000  769.6500  773.0500    841085\n",
       "2025-03-24  758.5000  783.1500  755.0500  781.4000    459986\n",
       "\n",
       "[100 rows x 5 columns]"
      ]
     },
     "execution_count": 17,
     "metadata": {},
     "output_type": "execute_result"
    }
   ],
   "source": [
    "daily1 = daily[\"Time Series (Daily)\"]\n",
    "daily_df = pd.DataFrame(daily1).T\n",
    "daily_df"
   ]
  },
  {
   "cell_type": "code",
   "execution_count": 18,
   "id": "6cb74990",
   "metadata": {},
   "outputs": [
    {
     "name": "stdout",
     "output_type": "stream",
     "text": [
      "<class 'pandas.core.frame.DataFrame'>\n",
      "Index: 100 entries, 2025-08-18 to 2025-03-24\n",
      "Data columns (total 5 columns):\n",
      " #   Column     Non-Null Count  Dtype \n",
      "---  ------     --------------  ----- \n",
      " 0   1. open    100 non-null    object\n",
      " 1   2. high    100 non-null    object\n",
      " 2   3. low     100 non-null    object\n",
      " 3   4. close   100 non-null    object\n",
      " 4   5. volume  100 non-null    object\n",
      "dtypes: object(5)\n",
      "memory usage: 4.7+ KB\n"
     ]
    }
   ],
   "source": [
    "daily_df.info()"
   ]
  },
  {
   "cell_type": "code",
   "execution_count": 19,
   "id": "c3503023",
   "metadata": {},
   "outputs": [
    {
     "data": {
      "text/plain": [
       "1. open      float64\n",
       "2. high      float64\n",
       "3. low       float64\n",
       "4. close     float64\n",
       "5. volume    float64\n",
       "dtype: object"
      ]
     },
     "execution_count": 19,
     "metadata": {},
     "output_type": "execute_result"
    }
   ],
   "source": [
    "# convert datatype to float and round off 2 decimal\n",
    "daily_df = daily_df.astype(float).round(2)\n",
    "daily_df.dtypes"
   ]
  },
  {
   "cell_type": "code",
   "execution_count": 20,
   "id": "e515eedc",
   "metadata": {},
   "outputs": [
    {
     "data": {
      "text/html": [
       "<div>\n",
       "<style scoped>\n",
       "    .dataframe tbody tr th:only-of-type {\n",
       "        vertical-align: middle;\n",
       "    }\n",
       "\n",
       "    .dataframe tbody tr th {\n",
       "        vertical-align: top;\n",
       "    }\n",
       "\n",
       "    .dataframe thead th {\n",
       "        text-align: right;\n",
       "    }\n",
       "</style>\n",
       "<table border=\"1\" class=\"dataframe\">\n",
       "  <thead>\n",
       "    <tr style=\"text-align: right;\">\n",
       "      <th></th>\n",
       "      <th>1. open</th>\n",
       "      <th>2. high</th>\n",
       "      <th>3. low</th>\n",
       "      <th>4. close</th>\n",
       "      <th>5. volume</th>\n",
       "    </tr>\n",
       "  </thead>\n",
       "  <tbody>\n",
       "    <tr>\n",
       "      <th>2025-08-18</th>\n",
       "      <td>831.35</td>\n",
       "      <td>835.20</td>\n",
       "      <td>825.30</td>\n",
       "      <td>827.00</td>\n",
       "      <td>435823.0</td>\n",
       "    </tr>\n",
       "    <tr>\n",
       "      <th>2025-08-14</th>\n",
       "      <td>821.85</td>\n",
       "      <td>828.00</td>\n",
       "      <td>819.20</td>\n",
       "      <td>826.70</td>\n",
       "      <td>492882.0</td>\n",
       "    </tr>\n",
       "    <tr>\n",
       "      <th>2025-08-13</th>\n",
       "      <td>823.45</td>\n",
       "      <td>824.90</td>\n",
       "      <td>820.55</td>\n",
       "      <td>822.15</td>\n",
       "      <td>847012.0</td>\n",
       "    </tr>\n",
       "    <tr>\n",
       "      <th>2025-08-12</th>\n",
       "      <td>824.30</td>\n",
       "      <td>825.60</td>\n",
       "      <td>820.00</td>\n",
       "      <td>820.55</td>\n",
       "      <td>784250.0</td>\n",
       "    </tr>\n",
       "    <tr>\n",
       "      <th>2025-08-11</th>\n",
       "      <td>807.00</td>\n",
       "      <td>824.95</td>\n",
       "      <td>807.00</td>\n",
       "      <td>824.30</td>\n",
       "      <td>1141997.0</td>\n",
       "    </tr>\n",
       "  </tbody>\n",
       "</table>\n",
       "</div>"
      ],
      "text/plain": [
       "            1. open  2. high  3. low  4. close  5. volume\n",
       "2025-08-18   831.35   835.20  825.30    827.00   435823.0\n",
       "2025-08-14   821.85   828.00  819.20    826.70   492882.0\n",
       "2025-08-13   823.45   824.90  820.55    822.15   847012.0\n",
       "2025-08-12   824.30   825.60  820.00    820.55   784250.0\n",
       "2025-08-11   807.00   824.95  807.00    824.30  1141997.0"
      ]
     },
     "execution_count": 20,
     "metadata": {},
     "output_type": "execute_result"
    }
   ],
   "source": [
    "daily_df.head()"
   ]
  },
  {
   "cell_type": "code",
   "execution_count": 21,
   "id": "4610ca89",
   "metadata": {},
   "outputs": [
    {
     "data": {
      "text/plain": [
       "Index(['2025-08-18', '2025-08-14', '2025-08-13', '2025-08-12', '2025-08-11',\n",
       "       '2025-08-08', '2025-08-07', '2025-08-06', '2025-08-05', '2025-08-04',\n",
       "       '2025-08-01', '2025-07-31', '2025-07-30', '2025-07-29', '2025-07-28',\n",
       "       '2025-07-25', '2025-07-24', '2025-07-23', '2025-07-22', '2025-07-21',\n",
       "       '2025-07-18', '2025-07-17', '2025-07-16', '2025-07-15', '2025-07-14',\n",
       "       '2025-07-11', '2025-07-10', '2025-07-09', '2025-07-08', '2025-07-07',\n",
       "       '2025-07-04', '2025-07-03', '2025-07-02', '2025-07-01', '2025-06-30',\n",
       "       '2025-06-27', '2025-06-26', '2025-06-25', '2025-06-24', '2025-06-23',\n",
       "       '2025-06-20', '2025-06-19', '2025-06-18', '2025-06-17', '2025-06-16',\n",
       "       '2025-06-13', '2025-06-12', '2025-06-11', '2025-06-10', '2025-06-09',\n",
       "       '2025-06-06', '2025-06-05', '2025-06-04', '2025-06-03', '2025-06-02',\n",
       "       '2025-05-30', '2025-05-29', '2025-05-28', '2025-05-27', '2025-05-26',\n",
       "       '2025-05-23', '2025-05-22', '2025-05-21', '2025-05-20', '2025-05-19',\n",
       "       '2025-05-16', '2025-05-15', '2025-05-14', '2025-05-13', '2025-05-12',\n",
       "       '2025-05-09', '2025-05-08', '2025-05-07', '2025-05-06', '2025-05-05',\n",
       "       '2025-05-02', '2025-04-30', '2025-04-29', '2025-04-28', '2025-04-25',\n",
       "       '2025-04-24', '2025-04-23', '2025-04-22', '2025-04-21', '2025-04-17',\n",
       "       '2025-04-16', '2025-04-15', '2025-04-11', '2025-04-09', '2025-04-08',\n",
       "       '2025-04-07', '2025-04-04', '2025-04-03', '2025-04-02', '2025-04-01',\n",
       "       '2025-03-28', '2025-03-27', '2025-03-26', '2025-03-25', '2025-03-24'],\n",
       "      dtype='object')"
      ]
     },
     "execution_count": 21,
     "metadata": {},
     "output_type": "execute_result"
    }
   ],
   "source": [
    "daily_df.index"
   ]
  },
  {
   "cell_type": "code",
   "execution_count": 22,
   "id": "01762237",
   "metadata": {},
   "outputs": [
    {
     "data": {
      "text/html": [
       "<div>\n",
       "<style scoped>\n",
       "    .dataframe tbody tr th:only-of-type {\n",
       "        vertical-align: middle;\n",
       "    }\n",
       "\n",
       "    .dataframe tbody tr th {\n",
       "        vertical-align: top;\n",
       "    }\n",
       "\n",
       "    .dataframe thead th {\n",
       "        text-align: right;\n",
       "    }\n",
       "</style>\n",
       "<table border=\"1\" class=\"dataframe\">\n",
       "  <thead>\n",
       "    <tr style=\"text-align: right;\">\n",
       "      <th></th>\n",
       "      <th>1. open</th>\n",
       "      <th>2. high</th>\n",
       "      <th>3. low</th>\n",
       "      <th>4. close</th>\n",
       "      <th>5. volume</th>\n",
       "    </tr>\n",
       "    <tr>\n",
       "      <th>date</th>\n",
       "      <th></th>\n",
       "      <th></th>\n",
       "      <th></th>\n",
       "      <th></th>\n",
       "      <th></th>\n",
       "    </tr>\n",
       "  </thead>\n",
       "  <tbody>\n",
       "    <tr>\n",
       "      <th>2025-08-18</th>\n",
       "      <td>831.35</td>\n",
       "      <td>835.20</td>\n",
       "      <td>825.30</td>\n",
       "      <td>827.00</td>\n",
       "      <td>435823.0</td>\n",
       "    </tr>\n",
       "    <tr>\n",
       "      <th>2025-08-14</th>\n",
       "      <td>821.85</td>\n",
       "      <td>828.00</td>\n",
       "      <td>819.20</td>\n",
       "      <td>826.70</td>\n",
       "      <td>492882.0</td>\n",
       "    </tr>\n",
       "    <tr>\n",
       "      <th>2025-08-13</th>\n",
       "      <td>823.45</td>\n",
       "      <td>824.90</td>\n",
       "      <td>820.55</td>\n",
       "      <td>822.15</td>\n",
       "      <td>847012.0</td>\n",
       "    </tr>\n",
       "    <tr>\n",
       "      <th>2025-08-12</th>\n",
       "      <td>824.30</td>\n",
       "      <td>825.60</td>\n",
       "      <td>820.00</td>\n",
       "      <td>820.55</td>\n",
       "      <td>784250.0</td>\n",
       "    </tr>\n",
       "    <tr>\n",
       "      <th>2025-08-11</th>\n",
       "      <td>807.00</td>\n",
       "      <td>824.95</td>\n",
       "      <td>807.00</td>\n",
       "      <td>824.30</td>\n",
       "      <td>1141997.0</td>\n",
       "    </tr>\n",
       "  </tbody>\n",
       "</table>\n",
       "</div>"
      ],
      "text/plain": [
       "            1. open  2. high  3. low  4. close  5. volume\n",
       "date                                                     \n",
       "2025-08-18   831.35   835.20  825.30    827.00   435823.0\n",
       "2025-08-14   821.85   828.00  819.20    826.70   492882.0\n",
       "2025-08-13   823.45   824.90  820.55    822.15   847012.0\n",
       "2025-08-12   824.30   825.60  820.00    820.55   784250.0\n",
       "2025-08-11   807.00   824.95  807.00    824.30  1141997.0"
      ]
     },
     "execution_count": 22,
     "metadata": {},
     "output_type": "execute_result"
    }
   ],
   "source": [
    "daily_df.index.name = \"date\"\n",
    "daily_df.head()"
   ]
  },
  {
   "cell_type": "code",
   "execution_count": 23,
   "id": "a350f0bb",
   "metadata": {},
   "outputs": [
    {
     "data": {
      "text/plain": [
       "(100, 5)"
      ]
     },
     "execution_count": 23,
     "metadata": {},
     "output_type": "execute_result"
    }
   ],
   "source": [
    "daily_df.shape"
   ]
  },
  {
   "cell_type": "code",
   "execution_count": 24,
   "id": "0ab2e825",
   "metadata": {},
   "outputs": [],
   "source": [
    "# Save above in csv file\n",
    "daily_df.to_csv(\"sbin.csv\")"
   ]
  },
  {
   "cell_type": "markdown",
   "id": "00ef3c2c",
   "metadata": {},
   "source": [
    "# Plotly to visulize stock market data"
   ]
  },
  {
   "cell_type": "code",
   "execution_count": 47,
   "id": "0df924c7",
   "metadata": {},
   "outputs": [
    {
     "data": {
      "application/vnd.plotly.v1+json": {
       "config": {
        "plotlyServerURL": "https://plot.ly"
       },
       "data": [
        {
         "close": {
          "bdata": "AAAAAADYiUCamZmZmdWJQDMzMzMzsYlAZmZmZmakiUBmZmZmZsKJQGZmZmZmJIlAAAAAAAAqiUAzMzMzMymJQJqZmZmZBYlAMzMzMzPdiECamZmZmc+IQJqZmZmZ44hAzczMzMwOiUAzMzMzM/eIQDMzMzMz6YhAAAAAAAA0iUDNzMzMzH6JQAAAAAAApolAAAAAAAB4iUCamZmZmcGJQGZmZmZmuolAzczMzMzkiUBmZmZmZvyJQAAAAAAAholAZmZmZmZKiUAAAAAAAESJQAAAAAAAQIlAzczMzMxWiUBmZmZmZmaJQJqZmZmZN4lAzczMzMxeiUDNzMzMzDiJQJqZmZmZaYlAAAAAAACiiUDNzMzMzKKJQDMzMzMzK4lAAAAAAADoiEDNzMzMzACJQAAAAAAA2ohAMzMzMzOxiEAAAAAAAOCIQJqZmZmZhYhAAAAAAAC+iECamZmZmcGIQM3MzMzMxohAMzMzMzPDiEAzMzMzMy2JQJqZmZmZd4lAZmZmZmaIiUBmZmZmZqCJQM3MzMzMZolAzczMzMwwiUCamZmZmTOJQAAAAAAATolAmpmZmZlriUAzMzMzM2OJQGZmZmZm6ohAmpmZmZnjiEBmZmZmZs6IQM3MzMzM0ohAmpmZmZmziEDNzMzMzIqIQJqZmZmZmYhAzczMzMyKiEAzMzMzM9eIQM3MzMzMvohAmpmZmZk9iUDNzMzMzAKJQDMzMzMzD4lAzczMzMwMiUAzMzMzM1uIQAAAAAAABohAMzMzMzNBiEAzMzMzMzGIQAAAAAAAsIhAZmZmZmYAiUAzMzMzM6GIQAAAAAAAXolAzczMzMyMiUAAAAAAAPaIQJqZmZmZaYlAZmZmZmZqiUCamZmZmbOJQM3MzMzMhIlAzczMzMzoiEAAAAAAAB6IQGZmZmZm2odAZmZmZmaQh0BmZmZmZjCHQDMzMzMzA4hAAAAAAABWh0BmZmZmZv6HQJqZmZmZWYhAzczMzMw+iEAAAAAAAByIQM3MzMzMHIhAMzMzMzMjiEDNzMzMzNqHQGZmZmZmKIhAMzMzMzNriEA=",
          "dtype": "f8"
         },
         "high": {
          "bdata": "mpmZmZkZikAAAAAAAOCJQDMzMzMzx4lAzczMzMzMiUCamZmZmceJQJqZmZmZP4lAAAAAAAA0iUAAAAAAAFCJQDMzMzMzHYlAmpmZmZnriEAAAAAAAAaJQM3MzMzMHIlAMzMzMzMbiUCamZmZmQGJQJqZmZmZSYlAAAAAAACYiUCamZmZma+JQAAAAAAAyIlAAAAAAADoiUAzMzMzM9uJQDMzMzMzA4pAZmZmZmZSikAAAAAAABCKQAAAAAAAqIlAzczMzMx8iUDNzMzMzGSJQAAAAAAAfIlAAAAAAABiiUDNzMzMzG6JQGZmZmZmZolAAAAAAABsiUAAAAAAAHiJQM3MzMzMwolAmpmZmZnHiUAAAAAAAKiJQAAAAAAATIlAmpmZmZkbiUAAAAAAACiJQAAAAAAANIlAzczMzMzUiEDNzMzMzPiIQJqZmZmZyYhAAAAAAADciEBmZmZmZvaIQM3MzMzM2ohAmpmZmZnhiEBmZmZmZoSJQM3MzMzMpIlAmpmZmZmviUAzMzMzM8OJQJqZmZmZg4lAMzMzMzNfiUCamZmZmX+JQJqZmZmZj4lAAAAAAAC0iUDNzMzMzHKJQAAAAAAAAIlAzczMzMz2iEAzMzMzMwmJQGZmZmZm7IhAZmZmZmbWiEAzMzMzM6eIQJqZmZmZtYhAMzMzMzP9iEDNzMzMzAqJQGZmZmZmJolAAAAAAABMiUCamZmZmTuJQJqZmZmZPYlAMzMzMzMfiUAzMzMzM2uIQAAAAAAAlIhAZmZmZmZ0iEAAAAAAAPiIQM3MzMzM+IhAmpmZmZkXiUDNzMzMzGaJQAAAAAAA6IlAAAAAAAC0iUDNzMzMzJiJQDMzMzMzmYlAAAAAAADwiUAzMzMzMxuKQAAAAAAAwolAAAAAAAAIiUBmZmZmZjSIQM3MzMzMFIhAmpmZmZm/h0AAAAAAAAiIQM3MzMzMMIhAmpmZmZmHh0AAAAAAAHKIQM3MzMzMhohAZmZmZmZGiEAAAAAAAHSIQJqZmZmZU4hAAAAAAAA4iECamZmZmT+IQAAAAAAAkIhAMzMzMzN5iEA=",
          "dtype": "f8"
         },
         "low": {
          "bdata": "ZmZmZmbKiUCamZmZmZmJQGZmZmZmpIlAAAAAAACgiUAAAAAAADiJQM3MzMzMsIhAZmZmZmbKiEAAAAAAAPiIQDMzMzMz3YhAZmZmZmaUiECamZmZmb+IQJqZmZmZw4hAAAAAAADiiEDNzMzMzMiIQAAAAAAA4IhAZmZmZmYsiUAzMzMzM1WJQDMzMzMzW4lAAAAAAABwiUCamZmZmY+JQGZmZmZmoIlAMzMzMzPRiUAzMzMzM3mJQJqZmZmZUYlAAAAAAABAiUAAAAAAACSJQGZmZmZmOIlAzczMzMxIiUAAAAAAACyJQJqZmZmZKYlAmpmZmZkhiUAAAAAAADCJQM3MzMzMSIlAAAAAAABqiUBmZmZmZjiJQDMzMzMzE4lAAAAAAAC8iEDNzMzMzOCIQM3MzMzMzIhAmpmZmZmjiEBmZmZmZpKIQAAAAAAAbIhAzczMzMyiiEAAAAAAALaIQM3MzMzMkohAMzMzMzOniEAAAAAAAAqJQDMzMzMzZ4lAMzMzMzN1iUDNzMzMzHyJQDMzMzMzF4lAAAAAAAAYiUAAAAAAACiJQJqZmZmZKYlAzczMzMxIiUAAAAAAAMaIQDMzMzMzu4hAMzMzMzPHiEAAAAAAAK6IQGZmZmZmqohAMzMzMzOTiEDNzMzMzGSIQDMzMzMzW4hAAAAAAACAiEDNzMzMzL6IQM3MzMzMtIhAZmZmZmbUiEAAAAAAAOSIQAAAAAAA6ohAzczMzMzIiEAAAAAAAJqHQAAAAAAA6IdAAAAAAADSh0AzMzMzMxmIQDMzMzMzfYhAAAAAAACqiECamZmZmYOIQAAAAAAARolAZmZmZmbiiEDNzMzMzJiIQAAAAAAAWIlAmpmZmZlPiUBmZmZmZm6JQM3MzMzMDIlAAAAAAAD6h0AzMzMzM8OHQDMzMzMzrYdAMzMzMzNRh0AAAAAAACaHQAAAAAAAqIdAmpmZmZnXhkAAAAAAAOiHQAAAAAAAEIhAZmZmZmbih0BmZmZmZtiHQAAAAAAAAIhAAAAAAADGh0BmZmZmZs6HQDMzMzMzDYhAZmZmZmaYh0A=",
          "dtype": "f8"
         },
         "open": {
          "bdata": "zczMzMz6iUDNzMzMzK6JQJqZmZmZu4lAZmZmZmbCiUAAAAAAADiJQAAAAAAAKIlAzczMzMwIiUAAAAAAAAiJQDMzMzMz3YhAAAAAAADYiEAAAAAAAOSIQDMzMzMz5YhAzczMzMz+iEDNzMzMzNqIQJqZmZmZR4lAzczMzMxyiUAAAAAAAJ6JQJqZmZmZeYlAAAAAAADoiUAAAAAAALyJQDMzMzMzA4pAAAAAAAA4ikAAAAAAAISJQJqZmZmZUYlAMzMzMzNTiUAAAAAAAECJQAAAAAAAYIlAAAAAAABQiUCamZmZmUeJQGZmZmZmZolAAAAAAABSiUAAAAAAAGiJQJqZmZmZpYlAzczMzMyiiUCamZmZmUeJQAAAAAAAMIlAmpmZmZkViUAAAAAAAPiIQAAAAAAA9IhAmpmZmZmxiECamZmZmZ+IQM3MzMzMxohAzczMzMzAiEAAAAAAAMyIQGZmZmZmxIhAAAAAAACuiEAAAAAAAICJQGZmZmZmiIlAmpmZmZmviUDNzMzMzIiJQM3MzMzMMIlAAAAAAABIiUDNzMzMzHiJQDMzMzMzh4lAzczMzMxgiUDNzMzMzOqIQM3MzMzM6IhAAAAAAADQiEAzMzMzM9GIQJqZmZmZu4hAmpmZmZmZiEAzMzMzM6eIQAAAAAAAlIhAAAAAAADyiECamZmZmceIQGZmZmZmJolAzczMzMwmiUAAAAAAACqJQJqZmZmZA4lAzczMzMz+iEAAAAAAAJqHQAAAAAAAUIhAAAAAAADSh0CamZmZmcGIQJqZmZmZh4hAZmZmZmbAiEDNzMzMzGaJQAAAAAAAoIlAZmZmZmbiiEDNzMzMzGyJQGZmZmZmaolAzczMzMzOiUCamZmZmamJQAAAAAAAGIlAzczMzMwYiEAAAAAAAOCHQGZmZmZmAIhAmpmZmZm/h0BmZmZmZgaIQAAAAAAAqIdAZmZmZmbihkCamZmZmVmIQAAAAAAAEIhAAAAAAAAgiECamZmZmf+HQJqZmZmZFYhAmpmZmZnVh0BmZmZmZhKIQDMzMzMzg4hAAAAAAAC0h0A=",
          "dtype": "f8"
         },
         "type": "candlestick",
         "x": [
          "2025-08-18",
          "2025-08-14",
          "2025-08-13",
          "2025-08-12",
          "2025-08-11",
          "2025-08-08",
          "2025-08-07",
          "2025-08-06",
          "2025-08-05",
          "2025-08-04",
          "2025-08-01",
          "2025-07-31",
          "2025-07-30",
          "2025-07-29",
          "2025-07-28",
          "2025-07-25",
          "2025-07-24",
          "2025-07-23",
          "2025-07-22",
          "2025-07-21",
          "2025-07-18",
          "2025-07-17",
          "2025-07-16",
          "2025-07-15",
          "2025-07-14",
          "2025-07-11",
          "2025-07-10",
          "2025-07-09",
          "2025-07-08",
          "2025-07-07",
          "2025-07-04",
          "2025-07-03",
          "2025-07-02",
          "2025-07-01",
          "2025-06-30",
          "2025-06-27",
          "2025-06-26",
          "2025-06-25",
          "2025-06-24",
          "2025-06-23",
          "2025-06-20",
          "2025-06-19",
          "2025-06-18",
          "2025-06-17",
          "2025-06-16",
          "2025-06-13",
          "2025-06-12",
          "2025-06-11",
          "2025-06-10",
          "2025-06-09",
          "2025-06-06",
          "2025-06-05",
          "2025-06-04",
          "2025-06-03",
          "2025-06-02",
          "2025-05-30",
          "2025-05-29",
          "2025-05-28",
          "2025-05-27",
          "2025-05-26",
          "2025-05-23",
          "2025-05-22",
          "2025-05-21",
          "2025-05-20",
          "2025-05-19",
          "2025-05-16",
          "2025-05-15",
          "2025-05-14",
          "2025-05-13",
          "2025-05-12",
          "2025-05-09",
          "2025-05-08",
          "2025-05-07",
          "2025-05-06",
          "2025-05-05",
          "2025-05-02",
          "2025-04-30",
          "2025-04-29",
          "2025-04-28",
          "2025-04-25",
          "2025-04-24",
          "2025-04-23",
          "2025-04-22",
          "2025-04-21",
          "2025-04-17",
          "2025-04-16",
          "2025-04-15",
          "2025-04-11",
          "2025-04-09",
          "2025-04-08",
          "2025-04-07",
          "2025-04-04",
          "2025-04-03",
          "2025-04-02",
          "2025-04-01",
          "2025-03-28",
          "2025-03-27",
          "2025-03-26",
          "2025-03-25",
          "2025-03-24"
         ]
        }
       ],
       "layout": {
        "height": 800,
        "template": {
         "data": {
          "candlestick": [
           {
            "decreasing": {
             "line": {
              "color": "#000033"
             }
            },
            "increasing": {
             "line": {
              "color": "#000032"
             }
            },
            "type": "candlestick"
           }
          ],
          "contour": [
           {
            "colorscale": [
             [
              0,
              "#000011"
             ],
             [
              0.1111111111111111,
              "#000012"
             ],
             [
              0.2222222222222222,
              "#000013"
             ],
             [
              0.3333333333333333,
              "#000014"
             ],
             [
              0.4444444444444444,
              "#000015"
             ],
             [
              0.5555555555555556,
              "#000016"
             ],
             [
              0.6666666666666666,
              "#000017"
             ],
             [
              0.7777777777777778,
              "#000018"
             ],
             [
              0.8888888888888888,
              "#000019"
             ],
             [
              1,
              "#000020"
             ]
            ],
            "type": "contour"
           }
          ],
          "contourcarpet": [
           {
            "colorscale": [
             [
              0,
              "#000011"
             ],
             [
              0.1111111111111111,
              "#000012"
             ],
             [
              0.2222222222222222,
              "#000013"
             ],
             [
              0.3333333333333333,
              "#000014"
             ],
             [
              0.4444444444444444,
              "#000015"
             ],
             [
              0.5555555555555556,
              "#000016"
             ],
             [
              0.6666666666666666,
              "#000017"
             ],
             [
              0.7777777777777778,
              "#000018"
             ],
             [
              0.8888888888888888,
              "#000019"
             ],
             [
              1,
              "#000020"
             ]
            ],
            "type": "contourcarpet"
           }
          ],
          "heatmap": [
           {
            "colorscale": [
             [
              0,
              "#000011"
             ],
             [
              0.1111111111111111,
              "#000012"
             ],
             [
              0.2222222222222222,
              "#000013"
             ],
             [
              0.3333333333333333,
              "#000014"
             ],
             [
              0.4444444444444444,
              "#000015"
             ],
             [
              0.5555555555555556,
              "#000016"
             ],
             [
              0.6666666666666666,
              "#000017"
             ],
             [
              0.7777777777777778,
              "#000018"
             ],
             [
              0.8888888888888888,
              "#000019"
             ],
             [
              1,
              "#000020"
             ]
            ],
            "type": "heatmap"
           }
          ],
          "histogram2d": [
           {
            "colorscale": [
             [
              0,
              "#000011"
             ],
             [
              0.1111111111111111,
              "#000012"
             ],
             [
              0.2222222222222222,
              "#000013"
             ],
             [
              0.3333333333333333,
              "#000014"
             ],
             [
              0.4444444444444444,
              "#000015"
             ],
             [
              0.5555555555555556,
              "#000016"
             ],
             [
              0.6666666666666666,
              "#000017"
             ],
             [
              0.7777777777777778,
              "#000018"
             ],
             [
              0.8888888888888888,
              "#000019"
             ],
             [
              1,
              "#000020"
             ]
            ],
            "type": "histogram2d"
           }
          ],
          "icicle": [
           {
            "textfont": {
             "color": "white"
            },
            "type": "icicle"
           }
          ],
          "sankey": [
           {
            "textfont": {
             "color": "#000036"
            },
            "type": "sankey"
           }
          ],
          "scatter": [
           {
            "marker": {
             "line": {
              "width": 0
             }
            },
            "type": "scatter"
           }
          ],
          "table": [
           {
            "cells": {
             "fill": {
              "color": "#000038"
             },
             "font": {
              "color": "#000037"
             },
             "line": {
              "color": "#000039"
             }
            },
            "header": {
             "fill": {
              "color": "#000040"
             },
             "font": {
              "color": "#000036"
             },
             "line": {
              "color": "#000039"
             }
            },
            "type": "table"
           }
          ],
          "waterfall": [
           {
            "connector": {
             "line": {
              "color": "#000036",
              "width": 2
             }
            },
            "decreasing": {
             "marker": {
              "color": "#000033"
             }
            },
            "increasing": {
             "marker": {
              "color": "#000032"
             }
            },
            "totals": {
             "marker": {
              "color": "#000034"
             }
            },
            "type": "waterfall"
           }
          ]
         },
         "layout": {
          "coloraxis": {
           "colorscale": [
            [
             0,
             "#000011"
            ],
            [
             0.1111111111111111,
             "#000012"
            ],
            [
             0.2222222222222222,
             "#000013"
            ],
            [
             0.3333333333333333,
             "#000014"
            ],
            [
             0.4444444444444444,
             "#000015"
            ],
            [
             0.5555555555555556,
             "#000016"
            ],
            [
             0.6666666666666666,
             "#000017"
            ],
            [
             0.7777777777777778,
             "#000018"
            ],
            [
             0.8888888888888888,
             "#000019"
            ],
            [
             1,
             "#000020"
            ]
           ]
          },
          "colorscale": {
           "diverging": [
            [
             0,
             "#000021"
            ],
            [
             0.1,
             "#000022"
            ],
            [
             0.2,
             "#000023"
            ],
            [
             0.3,
             "#000024"
            ],
            [
             0.4,
             "#000025"
            ],
            [
             0.5,
             "#000026"
            ],
            [
             0.6,
             "#000027"
            ],
            [
             0.7,
             "#000028"
            ],
            [
             0.8,
             "#000029"
            ],
            [
             0.9,
             "#000030"
            ],
            [
             1,
             "#000031"
            ]
           ],
           "sequential": [
            [
             0,
             "#000011"
            ],
            [
             0.1111111111111111,
             "#000012"
            ],
            [
             0.2222222222222222,
             "#000013"
            ],
            [
             0.3333333333333333,
             "#000014"
            ],
            [
             0.4444444444444444,
             "#000015"
            ],
            [
             0.5555555555555556,
             "#000016"
            ],
            [
             0.6666666666666666,
             "#000017"
            ],
            [
             0.7777777777777778,
             "#000018"
            ],
            [
             0.8888888888888888,
             "#000019"
            ],
            [
             1,
             "#000020"
            ]
           ],
           "sequentialminus": [
            [
             0,
             "#000011"
            ],
            [
             0.1111111111111111,
             "#000012"
            ],
            [
             0.2222222222222222,
             "#000013"
            ],
            [
             0.3333333333333333,
             "#000014"
            ],
            [
             0.4444444444444444,
             "#000015"
            ],
            [
             0.5555555555555556,
             "#000016"
            ],
            [
             0.6666666666666666,
             "#000017"
            ],
            [
             0.7777777777777778,
             "#000018"
            ],
            [
             0.8888888888888888,
             "#000019"
            ],
            [
             1,
             "#000020"
            ]
           ]
          },
          "colorway": [
           "#000001",
           "#000002",
           "#000003",
           "#000004",
           "#000005",
           "#000006",
           "#000007",
           "#000008",
           "#000009",
           "#000010"
          ]
         }
        },
        "title": {
         "text": "SBIN.BSE Stock price"
        },
        "width": 1200
       }
      }
     },
     "metadata": {},
     "output_type": "display_data"
    }
   ],
   "source": [
    "import plotly.graph_objects as go\n",
    "\n",
    "fig = go.Figure(\n",
    "    data=[\n",
    "        go.Candlestick(\n",
    "            x=daily_df.index,\n",
    "            open=daily_df[\"1. open\"],\n",
    "            high=daily_df[\"2. high\"],\n",
    "            low=daily_df[\"3. low\"],\n",
    "            close=daily_df[\"4. close\"],\n",
    "        )\n",
    "    ]\n",
    ")\n",
    "\n",
    "fig.update_layout(width=1200, height=800, title=\"SBIN.BSE Stock price\")\n",
    "\n",
    "# fig.show()"
   ]
  },
  {
   "cell_type": "markdown",
   "id": "e31d9282",
   "metadata": {},
   "source": [
    "# Create a class to get the data for any stock"
   ]
  },
  {
   "cell_type": "code",
   "execution_count": 32,
   "id": "568d352c",
   "metadata": {},
   "outputs": [],
   "source": [
    "import streamlit as st\n",
    "import requests\n",
    "import pandas as pd\n",
    "import plotly.graph_objects as go\n",
    "\n",
    "\n",
    "class StockData:\n",
    "\n",
    "    def __init__(self):\n",
    "        api_key = st.secrets[\"API_KEY\"]\n",
    "        self.url = \"https://alpha-vantage.p.rapidapi.com/query\"\n",
    "        self.headers = {\n",
    "            \"x-rapidapi-key\": api_key,\n",
    "            \"x-rapidapi-host\": \"alpha-vantage.p.rapidapi.com\",\n",
    "        }\n",
    "\n",
    "    def symbol_search(self, company: str):\n",
    "        querystring = {\n",
    "            \"datatype\": \"json\",\n",
    "            \"keywords\": company,\n",
    "            \"function\": \"SYMBOL_SEARCH\",\n",
    "        }\n",
    "        response = requests.get(self.url, headers=self.headers, params=querystring)\n",
    "        search = response.json()[\"bestMatches\"]\n",
    "        search_df = pd.DataFrame(search)\n",
    "        return search_df\n",
    "\n",
    "    def get_daily_data(self, symbol: str):\n",
    "        querystring = {\n",
    "            \"function\": \"TIME_SERIES_DAILY\",\n",
    "            \"symbol\": symbol,\n",
    "            \"outputsize\": \"compact\",\n",
    "            \"datatype\": \"json\",\n",
    "        }\n",
    "        response = requests.get(self.url, headers=self.headers, params=querystring)\n",
    "        daily = response.json()[\"Time Series (Daily)\"]\n",
    "        daily_df = pd.DataFrame(daily).T\n",
    "        daily_df = daily_df.astype(float)\n",
    "        daily_df.index = pd.to_datetime(daily_df.index)\n",
    "        daily_df.index.name = \"date\"\n",
    "        return daily_df\n",
    "\n",
    "    def plot_chart(self, data: pd.DataFrame):\n",
    "        fig = go.Figure(\n",
    "            data=[\n",
    "                go.Candlestick(\n",
    "                    x=data.index,\n",
    "                    open=data[\"1. open\"],\n",
    "                    high=data[\"2. high\"],\n",
    "                    low=data[\"3. low\"],\n",
    "                    close=data[\"4. close\"],\n",
    "                )\n",
    "            ]\n",
    "        )\n",
    "\n",
    "        fig.update_layout(width=1200, height=800)\n",
    "        return fig"
   ]
  },
  {
   "cell_type": "code",
   "execution_count": 34,
   "id": "48deda45",
   "metadata": {},
   "outputs": [],
   "source": [
    "client = StockData()"
   ]
  },
  {
   "cell_type": "code",
   "execution_count": 35,
   "id": "1171bdc1",
   "metadata": {},
   "outputs": [
    {
     "data": {
      "text/plain": [
       "__main__.StockData"
      ]
     },
     "execution_count": 35,
     "metadata": {},
     "output_type": "execute_result"
    }
   ],
   "source": [
    "type(client)"
   ]
  },
  {
   "cell_type": "code",
   "execution_count": 36,
   "id": "faf48db7",
   "metadata": {},
   "outputs": [
    {
     "data": {
      "text/html": [
       "<div>\n",
       "<style scoped>\n",
       "    .dataframe tbody tr th:only-of-type {\n",
       "        vertical-align: middle;\n",
       "    }\n",
       "\n",
       "    .dataframe tbody tr th {\n",
       "        vertical-align: top;\n",
       "    }\n",
       "\n",
       "    .dataframe thead th {\n",
       "        text-align: right;\n",
       "    }\n",
       "</style>\n",
       "<table border=\"1\" class=\"dataframe\">\n",
       "  <thead>\n",
       "    <tr style=\"text-align: right;\">\n",
       "      <th></th>\n",
       "      <th>1. symbol</th>\n",
       "      <th>2. name</th>\n",
       "      <th>3. type</th>\n",
       "      <th>4. region</th>\n",
       "      <th>5. marketOpen</th>\n",
       "      <th>6. marketClose</th>\n",
       "      <th>7. timezone</th>\n",
       "      <th>8. currency</th>\n",
       "      <th>9. matchScore</th>\n",
       "    </tr>\n",
       "  </thead>\n",
       "  <tbody>\n",
       "    <tr>\n",
       "      <th>0</th>\n",
       "      <td>HDB</td>\n",
       "      <td>HDFC Bank Ltd</td>\n",
       "      <td>Equity</td>\n",
       "      <td>United States</td>\n",
       "      <td>09:30</td>\n",
       "      <td>16:00</td>\n",
       "      <td>UTC-04</td>\n",
       "      <td>USD</td>\n",
       "      <td>0.8182</td>\n",
       "    </tr>\n",
       "    <tr>\n",
       "      <th>1</th>\n",
       "      <td>HDFCBANK.BSE</td>\n",
       "      <td>HDFC Bank Limited</td>\n",
       "      <td>Equity</td>\n",
       "      <td>India/Bombay</td>\n",
       "      <td>09:15</td>\n",
       "      <td>15:30</td>\n",
       "      <td>UTC+5.5</td>\n",
       "      <td>INR</td>\n",
       "      <td>0.8000</td>\n",
       "    </tr>\n",
       "    <tr>\n",
       "      <th>2</th>\n",
       "      <td>H1DB34.SAO</td>\n",
       "      <td>HDFC Bank Limited</td>\n",
       "      <td>Equity</td>\n",
       "      <td>Brazil/Sao Paolo</td>\n",
       "      <td>10:00</td>\n",
       "      <td>17:30</td>\n",
       "      <td>UTC-03</td>\n",
       "      <td>BRL</td>\n",
       "      <td>0.6923</td>\n",
       "    </tr>\n",
       "    <tr>\n",
       "      <th>3</th>\n",
       "      <td>HDFA.FRK</td>\n",
       "      <td>HDFC Bank Limited</td>\n",
       "      <td>Equity</td>\n",
       "      <td>Frankfurt</td>\n",
       "      <td>08:00</td>\n",
       "      <td>20:00</td>\n",
       "      <td>UTC+02</td>\n",
       "      <td>EUR</td>\n",
       "      <td>0.6923</td>\n",
       "    </tr>\n",
       "  </tbody>\n",
       "</table>\n",
       "</div>"
      ],
      "text/plain": [
       "      1. symbol            2. name 3. type         4. region 5. marketOpen  \\\n",
       "0           HDB      HDFC Bank Ltd  Equity     United States         09:30   \n",
       "1  HDFCBANK.BSE  HDFC Bank Limited  Equity      India/Bombay         09:15   \n",
       "2    H1DB34.SAO  HDFC Bank Limited  Equity  Brazil/Sao Paolo         10:00   \n",
       "3      HDFA.FRK  HDFC Bank Limited  Equity         Frankfurt         08:00   \n",
       "\n",
       "  6. marketClose 7. timezone 8. currency 9. matchScore  \n",
       "0          16:00      UTC-04         USD        0.8182  \n",
       "1          15:30     UTC+5.5         INR        0.8000  \n",
       "2          17:30      UTC-03         BRL        0.6923  \n",
       "3          20:00      UTC+02         EUR        0.6923  "
      ]
     },
     "execution_count": 36,
     "metadata": {},
     "output_type": "execute_result"
    }
   ],
   "source": [
    "client.symbol_search(company=\"HDFC Bank\")"
   ]
  },
  {
   "cell_type": "code",
   "execution_count": 37,
   "id": "9abf7e5e",
   "metadata": {},
   "outputs": [
    {
     "data": {
      "text/html": [
       "<div>\n",
       "<style scoped>\n",
       "    .dataframe tbody tr th:only-of-type {\n",
       "        vertical-align: middle;\n",
       "    }\n",
       "\n",
       "    .dataframe tbody tr th {\n",
       "        vertical-align: top;\n",
       "    }\n",
       "\n",
       "    .dataframe thead th {\n",
       "        text-align: right;\n",
       "    }\n",
       "</style>\n",
       "<table border=\"1\" class=\"dataframe\">\n",
       "  <thead>\n",
       "    <tr style=\"text-align: right;\">\n",
       "      <th></th>\n",
       "      <th>1. open</th>\n",
       "      <th>2. high</th>\n",
       "      <th>3. low</th>\n",
       "      <th>4. close</th>\n",
       "      <th>5. volume</th>\n",
       "    </tr>\n",
       "    <tr>\n",
       "      <th>date</th>\n",
       "      <th></th>\n",
       "      <th></th>\n",
       "      <th></th>\n",
       "      <th></th>\n",
       "      <th></th>\n",
       "    </tr>\n",
       "  </thead>\n",
       "  <tbody>\n",
       "    <tr>\n",
       "      <th>2025-08-18</th>\n",
       "      <td>2005.60</td>\n",
       "      <td>2025.85</td>\n",
       "      <td>1995.45</td>\n",
       "      <td>2003.65</td>\n",
       "      <td>283576.0</td>\n",
       "    </tr>\n",
       "    <tr>\n",
       "      <th>2025-08-14</th>\n",
       "      <td>1989.70</td>\n",
       "      <td>1996.65</td>\n",
       "      <td>1971.70</td>\n",
       "      <td>1991.40</td>\n",
       "      <td>170296.0</td>\n",
       "    </tr>\n",
       "    <tr>\n",
       "      <th>2025-08-13</th>\n",
       "      <td>1980.05</td>\n",
       "      <td>1987.95</td>\n",
       "      <td>1969.00</td>\n",
       "      <td>1979.35</td>\n",
       "      <td>1034184.0</td>\n",
       "    </tr>\n",
       "    <tr>\n",
       "      <th>2025-08-12</th>\n",
       "      <td>1990.35</td>\n",
       "      <td>1996.00</td>\n",
       "      <td>1967.65</td>\n",
       "      <td>1969.95</td>\n",
       "      <td>288268.0</td>\n",
       "    </tr>\n",
       "    <tr>\n",
       "      <th>2025-08-11</th>\n",
       "      <td>1973.25</td>\n",
       "      <td>1998.35</td>\n",
       "      <td>1973.25</td>\n",
       "      <td>1996.00</td>\n",
       "      <td>284368.0</td>\n",
       "    </tr>\n",
       "    <tr>\n",
       "      <th>...</th>\n",
       "      <td>...</td>\n",
       "      <td>...</td>\n",
       "      <td>...</td>\n",
       "      <td>...</td>\n",
       "      <td>...</td>\n",
       "    </tr>\n",
       "    <tr>\n",
       "      <th>2025-03-28</th>\n",
       "      <td>1830.00</td>\n",
       "      <td>1836.40</td>\n",
       "      <td>1806.75</td>\n",
       "      <td>1828.50</td>\n",
       "      <td>348897.0</td>\n",
       "    </tr>\n",
       "    <tr>\n",
       "      <th>2025-03-27</th>\n",
       "      <td>1799.50</td>\n",
       "      <td>1840.50</td>\n",
       "      <td>1798.70</td>\n",
       "      <td>1825.25</td>\n",
       "      <td>186393.0</td>\n",
       "    </tr>\n",
       "    <tr>\n",
       "      <th>2025-03-26</th>\n",
       "      <td>1824.00</td>\n",
       "      <td>1827.50</td>\n",
       "      <td>1802.50</td>\n",
       "      <td>1805.95</td>\n",
       "      <td>240192.0</td>\n",
       "    </tr>\n",
       "    <tr>\n",
       "      <th>2025-03-25</th>\n",
       "      <td>1801.25</td>\n",
       "      <td>1843.90</td>\n",
       "      <td>1801.25</td>\n",
       "      <td>1821.45</td>\n",
       "      <td>711824.0</td>\n",
       "    </tr>\n",
       "    <tr>\n",
       "      <th>2025-03-24</th>\n",
       "      <td>1780.00</td>\n",
       "      <td>1804.00</td>\n",
       "      <td>1773.45</td>\n",
       "      <td>1801.15</td>\n",
       "      <td>126190.0</td>\n",
       "    </tr>\n",
       "  </tbody>\n",
       "</table>\n",
       "<p>100 rows × 5 columns</p>\n",
       "</div>"
      ],
      "text/plain": [
       "            1. open  2. high   3. low  4. close  5. volume\n",
       "date                                                      \n",
       "2025-08-18  2005.60  2025.85  1995.45   2003.65   283576.0\n",
       "2025-08-14  1989.70  1996.65  1971.70   1991.40   170296.0\n",
       "2025-08-13  1980.05  1987.95  1969.00   1979.35  1034184.0\n",
       "2025-08-12  1990.35  1996.00  1967.65   1969.95   288268.0\n",
       "2025-08-11  1973.25  1998.35  1973.25   1996.00   284368.0\n",
       "...             ...      ...      ...       ...        ...\n",
       "2025-03-28  1830.00  1836.40  1806.75   1828.50   348897.0\n",
       "2025-03-27  1799.50  1840.50  1798.70   1825.25   186393.0\n",
       "2025-03-26  1824.00  1827.50  1802.50   1805.95   240192.0\n",
       "2025-03-25  1801.25  1843.90  1801.25   1821.45   711824.0\n",
       "2025-03-24  1780.00  1804.00  1773.45   1801.15   126190.0\n",
       "\n",
       "[100 rows x 5 columns]"
      ]
     },
     "execution_count": 37,
     "metadata": {},
     "output_type": "execute_result"
    }
   ],
   "source": [
    "df_hdfc = client.get_daily_data(symbol=\"HDFCBANK.BSE\")\n",
    "df_hdfc"
   ]
  },
  {
   "cell_type": "code",
   "execution_count": 38,
   "id": "c8a81cec",
   "metadata": {},
   "outputs": [],
   "source": [
    "df_hdfc.to_csv(\"hdfc.csv\")"
   ]
  },
  {
   "cell_type": "code",
   "execution_count": 45,
   "id": "8811777c",
   "metadata": {},
   "outputs": [],
   "source": [
    "fig2 = client.plot_chart(data=df_hdfc)\n",
    "# fig2.show()"
   ]
  },
  {
   "cell_type": "markdown",
   "id": "e25022c9",
   "metadata": {},
   "source": [
    "# plot tesla data"
   ]
  },
  {
   "cell_type": "code",
   "execution_count": 40,
   "id": "023cd479",
   "metadata": {},
   "outputs": [
    {
     "data": {
      "text/html": [
       "<div>\n",
       "<style scoped>\n",
       "    .dataframe tbody tr th:only-of-type {\n",
       "        vertical-align: middle;\n",
       "    }\n",
       "\n",
       "    .dataframe tbody tr th {\n",
       "        vertical-align: top;\n",
       "    }\n",
       "\n",
       "    .dataframe thead th {\n",
       "        text-align: right;\n",
       "    }\n",
       "</style>\n",
       "<table border=\"1\" class=\"dataframe\">\n",
       "  <thead>\n",
       "    <tr style=\"text-align: right;\">\n",
       "      <th></th>\n",
       "      <th>1. symbol</th>\n",
       "      <th>2. name</th>\n",
       "      <th>3. type</th>\n",
       "      <th>4. region</th>\n",
       "      <th>5. marketOpen</th>\n",
       "      <th>6. marketClose</th>\n",
       "      <th>7. timezone</th>\n",
       "      <th>8. currency</th>\n",
       "      <th>9. matchScore</th>\n",
       "    </tr>\n",
       "  </thead>\n",
       "  <tbody>\n",
       "    <tr>\n",
       "      <th>0</th>\n",
       "      <td>TSLA</td>\n",
       "      <td>Tesla Inc</td>\n",
       "      <td>Equity</td>\n",
       "      <td>United States</td>\n",
       "      <td>09:30</td>\n",
       "      <td>16:00</td>\n",
       "      <td>UTC-04</td>\n",
       "      <td>USD</td>\n",
       "      <td>0.8889</td>\n",
       "    </tr>\n",
       "    <tr>\n",
       "      <th>1</th>\n",
       "      <td>TL0.DEX</td>\n",
       "      <td>Tesla Inc</td>\n",
       "      <td>Equity</td>\n",
       "      <td>XETRA</td>\n",
       "      <td>08:00</td>\n",
       "      <td>20:00</td>\n",
       "      <td>UTC+02</td>\n",
       "      <td>EUR</td>\n",
       "      <td>0.7143</td>\n",
       "    </tr>\n",
       "    <tr>\n",
       "      <th>2</th>\n",
       "      <td>TL0.FRK</td>\n",
       "      <td>Tesla Inc</td>\n",
       "      <td>Equity</td>\n",
       "      <td>Frankfurt</td>\n",
       "      <td>08:00</td>\n",
       "      <td>20:00</td>\n",
       "      <td>UTC+02</td>\n",
       "      <td>EUR</td>\n",
       "      <td>0.7143</td>\n",
       "    </tr>\n",
       "    <tr>\n",
       "      <th>3</th>\n",
       "      <td>TSLA34.SAO</td>\n",
       "      <td>Tesla Inc</td>\n",
       "      <td>Equity</td>\n",
       "      <td>Brazil/Sao Paolo</td>\n",
       "      <td>10:00</td>\n",
       "      <td>17:30</td>\n",
       "      <td>UTC-03</td>\n",
       "      <td>BRL</td>\n",
       "      <td>0.7143</td>\n",
       "    </tr>\n",
       "    <tr>\n",
       "      <th>4</th>\n",
       "      <td>TSLA.TRT</td>\n",
       "      <td>Tesla CDR (CAD Hedged)</td>\n",
       "      <td>Equity</td>\n",
       "      <td>Toronto</td>\n",
       "      <td>09:30</td>\n",
       "      <td>16:00</td>\n",
       "      <td>UTC-05</td>\n",
       "      <td>CAD</td>\n",
       "      <td>0.6667</td>\n",
       "    </tr>\n",
       "    <tr>\n",
       "      <th>5</th>\n",
       "      <td>TL01.FRK</td>\n",
       "      <td>TESLA INC. CDR DL-001</td>\n",
       "      <td>Equity</td>\n",
       "      <td>Frankfurt</td>\n",
       "      <td>08:00</td>\n",
       "      <td>20:00</td>\n",
       "      <td>UTC+02</td>\n",
       "      <td>EUR</td>\n",
       "      <td>0.3846</td>\n",
       "    </tr>\n",
       "  </tbody>\n",
       "</table>\n",
       "</div>"
      ],
      "text/plain": [
       "    1. symbol                 2. name 3. type         4. region 5. marketOpen  \\\n",
       "0        TSLA               Tesla Inc  Equity     United States         09:30   \n",
       "1     TL0.DEX               Tesla Inc  Equity             XETRA         08:00   \n",
       "2     TL0.FRK               Tesla Inc  Equity         Frankfurt         08:00   \n",
       "3  TSLA34.SAO               Tesla Inc  Equity  Brazil/Sao Paolo         10:00   \n",
       "4    TSLA.TRT  Tesla CDR (CAD Hedged)  Equity           Toronto         09:30   \n",
       "5    TL01.FRK   TESLA INC. CDR DL-001  Equity         Frankfurt         08:00   \n",
       "\n",
       "  6. marketClose 7. timezone 8. currency 9. matchScore  \n",
       "0          16:00      UTC-04         USD        0.8889  \n",
       "1          20:00      UTC+02         EUR        0.7143  \n",
       "2          20:00      UTC+02         EUR        0.7143  \n",
       "3          17:30      UTC-03         BRL        0.7143  \n",
       "4          16:00      UTC-05         CAD        0.6667  \n",
       "5          20:00      UTC+02         EUR        0.3846  "
      ]
     },
     "execution_count": 40,
     "metadata": {},
     "output_type": "execute_result"
    }
   ],
   "source": [
    "client.symbol_search(company=\"Tesla\")"
   ]
  },
  {
   "cell_type": "code",
   "execution_count": 41,
   "id": "55a68682",
   "metadata": {},
   "outputs": [
    {
     "data": {
      "text/html": [
       "<div>\n",
       "<style scoped>\n",
       "    .dataframe tbody tr th:only-of-type {\n",
       "        vertical-align: middle;\n",
       "    }\n",
       "\n",
       "    .dataframe tbody tr th {\n",
       "        vertical-align: top;\n",
       "    }\n",
       "\n",
       "    .dataframe thead th {\n",
       "        text-align: right;\n",
       "    }\n",
       "</style>\n",
       "<table border=\"1\" class=\"dataframe\">\n",
       "  <thead>\n",
       "    <tr style=\"text-align: right;\">\n",
       "      <th></th>\n",
       "      <th>1. open</th>\n",
       "      <th>2. high</th>\n",
       "      <th>3. low</th>\n",
       "      <th>4. close</th>\n",
       "      <th>5. volume</th>\n",
       "    </tr>\n",
       "    <tr>\n",
       "      <th>date</th>\n",
       "      <th></th>\n",
       "      <th></th>\n",
       "      <th></th>\n",
       "      <th></th>\n",
       "      <th></th>\n",
       "    </tr>\n",
       "  </thead>\n",
       "  <tbody>\n",
       "    <tr>\n",
       "      <th>2025-08-18</th>\n",
       "      <td>329.620</td>\n",
       "      <td>336.2700</td>\n",
       "      <td>329.5900</td>\n",
       "      <td>335.16</td>\n",
       "      <td>56956552.0</td>\n",
       "    </tr>\n",
       "    <tr>\n",
       "      <th>2025-08-15</th>\n",
       "      <td>337.655</td>\n",
       "      <td>339.3000</td>\n",
       "      <td>327.0200</td>\n",
       "      <td>330.56</td>\n",
       "      <td>74319792.0</td>\n",
       "    </tr>\n",
       "    <tr>\n",
       "      <th>2025-08-14</th>\n",
       "      <td>335.760</td>\n",
       "      <td>340.4699</td>\n",
       "      <td>330.4000</td>\n",
       "      <td>335.58</td>\n",
       "      <td>75000662.0</td>\n",
       "    </tr>\n",
       "    <tr>\n",
       "      <th>2025-08-13</th>\n",
       "      <td>341.500</td>\n",
       "      <td>348.9800</td>\n",
       "      <td>338.2000</td>\n",
       "      <td>339.38</td>\n",
       "      <td>67838892.0</td>\n",
       "    </tr>\n",
       "    <tr>\n",
       "      <th>2025-08-12</th>\n",
       "      <td>345.000</td>\n",
       "      <td>345.2600</td>\n",
       "      <td>332.9400</td>\n",
       "      <td>340.84</td>\n",
       "      <td>80690111.0</td>\n",
       "    </tr>\n",
       "    <tr>\n",
       "      <th>...</th>\n",
       "      <td>...</td>\n",
       "      <td>...</td>\n",
       "      <td>...</td>\n",
       "      <td>...</td>\n",
       "      <td>...</td>\n",
       "    </tr>\n",
       "    <tr>\n",
       "      <th>2025-04-01</th>\n",
       "      <td>263.800</td>\n",
       "      <td>277.4500</td>\n",
       "      <td>259.2500</td>\n",
       "      <td>268.46</td>\n",
       "      <td>146486911.0</td>\n",
       "    </tr>\n",
       "    <tr>\n",
       "      <th>2025-03-31</th>\n",
       "      <td>249.310</td>\n",
       "      <td>260.5600</td>\n",
       "      <td>243.3601</td>\n",
       "      <td>259.16</td>\n",
       "      <td>134008936.0</td>\n",
       "    </tr>\n",
       "    <tr>\n",
       "      <th>2025-03-28</th>\n",
       "      <td>275.575</td>\n",
       "      <td>276.1000</td>\n",
       "      <td>260.5700</td>\n",
       "      <td>263.55</td>\n",
       "      <td>123809389.0</td>\n",
       "    </tr>\n",
       "    <tr>\n",
       "      <th>2025-03-27</th>\n",
       "      <td>272.480</td>\n",
       "      <td>291.8500</td>\n",
       "      <td>271.8216</td>\n",
       "      <td>273.13</td>\n",
       "      <td>162572146.0</td>\n",
       "    </tr>\n",
       "    <tr>\n",
       "      <th>2025-03-26</th>\n",
       "      <td>282.660</td>\n",
       "      <td>284.9000</td>\n",
       "      <td>266.5100</td>\n",
       "      <td>272.06</td>\n",
       "      <td>156254441.0</td>\n",
       "    </tr>\n",
       "  </tbody>\n",
       "</table>\n",
       "<p>100 rows × 5 columns</p>\n",
       "</div>"
      ],
      "text/plain": [
       "            1. open   2. high    3. low  4. close    5. volume\n",
       "date                                                          \n",
       "2025-08-18  329.620  336.2700  329.5900    335.16   56956552.0\n",
       "2025-08-15  337.655  339.3000  327.0200    330.56   74319792.0\n",
       "2025-08-14  335.760  340.4699  330.4000    335.58   75000662.0\n",
       "2025-08-13  341.500  348.9800  338.2000    339.38   67838892.0\n",
       "2025-08-12  345.000  345.2600  332.9400    340.84   80690111.0\n",
       "...             ...       ...       ...       ...          ...\n",
       "2025-04-01  263.800  277.4500  259.2500    268.46  146486911.0\n",
       "2025-03-31  249.310  260.5600  243.3601    259.16  134008936.0\n",
       "2025-03-28  275.575  276.1000  260.5700    263.55  123809389.0\n",
       "2025-03-27  272.480  291.8500  271.8216    273.13  162572146.0\n",
       "2025-03-26  282.660  284.9000  266.5100    272.06  156254441.0\n",
       "\n",
       "[100 rows x 5 columns]"
      ]
     },
     "execution_count": 41,
     "metadata": {},
     "output_type": "execute_result"
    }
   ],
   "source": [
    "df_tsla = client.get_daily_data(symbol=\"TSLA\")\n",
    "df_tsla"
   ]
  },
  {
   "cell_type": "code",
   "execution_count": 42,
   "id": "939f499a",
   "metadata": {},
   "outputs": [],
   "source": [
    "df_tsla.to_csv(\"tsla.csv\")"
   ]
  },
  {
   "cell_type": "code",
   "execution_count": 44,
   "id": "dde4da71",
   "metadata": {},
   "outputs": [],
   "source": [
    "fig3 = client.plot_chart(data=df_tsla)\n",
    "# fig3.show()"
   ]
  },
  {
   "cell_type": "code",
   "execution_count": null,
   "id": "8feabeff",
   "metadata": {},
   "outputs": [],
   "source": []
  }
 ],
 "metadata": {
  "kernelspec": {
   "display_name": "stock market project",
   "language": "python",
   "name": "python3"
  },
  "language_info": {
   "codemirror_mode": {
    "name": "ipython",
    "version": 3
   },
   "file_extension": ".py",
   "mimetype": "text/x-python",
   "name": "python",
   "nbconvert_exporter": "python",
   "pygments_lexer": "ipython3",
   "version": "3.13.5"
  }
 },
 "nbformat": 4,
 "nbformat_minor": 5
}
